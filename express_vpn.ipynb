{
 "cells": [
  {
   "cell_type": "code",
   "execution_count": 7,
   "id": "300a6756-c7ea-4f9c-916d-cbb2c7b7c089",
   "metadata": {},
   "outputs": [],
   "source": [
    "from expressvpn.wrapper import random_connect, connect, disconnect\n"
   ]
  },
  {
   "cell_type": "code",
   "execution_count": 10,
   "id": "758999bd-7eb7-47a7-b180-532ee2999361",
   "metadata": {},
   "outputs": [],
   "source": [
    "import logging\n",
    "\n",
    "from expressvpn import wrapper\n",
    "\n",
    "\n",
    "class BannedException(Exception):\n",
    "    pass\n",
    "\n",
    "\n",
    "def main():\n",
    "    while True:\n",
    "        try:\n",
    "            scrape()\n",
    "        except BannedException as be:\n",
    "            logging.info('BANNED EXCEPTION in __MAIN__')\n",
    "            logging.info(be)\n",
    "            logging.info('Lets change our PUBLIC IP GUYS!')\n",
    "            change_ip()\n",
    "        except Exception as e:\n",
    "            logging.error('Exception raised.')\n",
    "            logging.error(e)\n",
    "\n",
    "\n",
    "def change_ip():\n",
    "    max_attempts = 10\n",
    "    attempts = 0\n",
    "    while True:\n",
    "        attempts += 1\n",
    "        try:\n",
    "            logging.info('GETTING NEW IP')\n",
    "            wrapper.random_connect()\n",
    "            logging.info('SUCCESS')\n",
    "            return\n",
    "        except Exception as e:\n",
    "            if attempts > max_attempts:\n",
    "                logging.error('Max attempts reached for VPN. Check its configuration.')\n",
    "                logging.error('Browse https://github.com/philipperemy/expressvpn-python.')\n",
    "                logging.error('Program will exit.')\n",
    "                exit(1)\n",
    "            logging.error(e)\n",
    "            logging.error('Skipping exception.')"
   ]
  },
  {
   "cell_type": "code",
   "execution_count": 8,
   "id": "45a2ac70-030b-4dfc-b6f3-e19c3ea6efe3",
   "metadata": {},
   "outputs": [
    {
     "data": {
      "text/plain": [
       "['\\\\x1b[1;33;49mDisconnecting...\\\\x1b[0m ',\n",
       " '\\\\x1b[1;33;49mDisconnected.\\\\x1b[0m ']"
      ]
     },
     "execution_count": 8,
     "metadata": {},
     "output_type": "execute_result"
    }
   ],
   "source": [
    "\n",
    "disconnect()"
   ]
  }
 ],
 "metadata": {
  "kernelspec": {
   "display_name": "Python 3 (ipykernel)",
   "language": "python",
   "name": "python3"
  },
  "language_info": {
   "codemirror_mode": {
    "name": "ipython",
    "version": 3
   },
   "file_extension": ".py",
   "mimetype": "text/x-python",
   "name": "python",
   "nbconvert_exporter": "python",
   "pygments_lexer": "ipython3",
   "version": "3.10.13"
  }
 },
 "nbformat": 4,
 "nbformat_minor": 5
}
